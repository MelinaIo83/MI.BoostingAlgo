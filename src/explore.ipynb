{
    "cells": [
        {
            "cell_type": "markdown",
            "metadata": {},
            "source": [
                "# BOOSTING ALGO MODELO "
            ]
        },
        {
            "cell_type": "code",
            "execution_count": 1,
            "metadata": {},
            "outputs": [
                {
                    "data": {
                        "text/html": [
                            "<div>\n",
                            "<style scoped>\n",
                            "    .dataframe tbody tr th:only-of-type {\n",
                            "        vertical-align: middle;\n",
                            "    }\n",
                            "\n",
                            "    .dataframe tbody tr th {\n",
                            "        vertical-align: top;\n",
                            "    }\n",
                            "\n",
                            "    .dataframe thead th {\n",
                            "        text-align: right;\n",
                            "    }\n",
                            "</style>\n",
                            "<table border=\"1\" class=\"dataframe\">\n",
                            "  <thead>\n",
                            "    <tr style=\"text-align: right;\">\n",
                            "      <th></th>\n",
                            "      <th>Pregnancies</th>\n",
                            "      <th>Glucose</th>\n",
                            "      <th>BloodPressure</th>\n",
                            "      <th>Insulin</th>\n",
                            "      <th>BMI</th>\n",
                            "      <th>DiabetesPedigreeFunction</th>\n",
                            "      <th>Age</th>\n",
                            "      <th>Outcome</th>\n",
                            "    </tr>\n",
                            "  </thead>\n",
                            "  <tbody>\n",
                            "    <tr>\n",
                            "      <th>0</th>\n",
                            "      <td>8.0</td>\n",
                            "      <td>133.0</td>\n",
                            "      <td>72.0</td>\n",
                            "      <td>0.0</td>\n",
                            "      <td>32.9</td>\n",
                            "      <td>0.270</td>\n",
                            "      <td>39.0</td>\n",
                            "      <td>1</td>\n",
                            "    </tr>\n",
                            "    <tr>\n",
                            "      <th>1</th>\n",
                            "      <td>5.0</td>\n",
                            "      <td>112.0</td>\n",
                            "      <td>66.0</td>\n",
                            "      <td>0.0</td>\n",
                            "      <td>37.8</td>\n",
                            "      <td>0.261</td>\n",
                            "      <td>41.0</td>\n",
                            "      <td>1</td>\n",
                            "    </tr>\n",
                            "    <tr>\n",
                            "      <th>2</th>\n",
                            "      <td>8.0</td>\n",
                            "      <td>95.0</td>\n",
                            "      <td>72.0</td>\n",
                            "      <td>0.0</td>\n",
                            "      <td>36.8</td>\n",
                            "      <td>0.485</td>\n",
                            "      <td>57.0</td>\n",
                            "      <td>0</td>\n",
                            "    </tr>\n",
                            "    <tr>\n",
                            "      <th>3</th>\n",
                            "      <td>3.0</td>\n",
                            "      <td>78.0</td>\n",
                            "      <td>70.0</td>\n",
                            "      <td>0.0</td>\n",
                            "      <td>32.5</td>\n",
                            "      <td>0.270</td>\n",
                            "      <td>39.0</td>\n",
                            "      <td>0</td>\n",
                            "    </tr>\n",
                            "    <tr>\n",
                            "      <th>4</th>\n",
                            "      <td>1.0</td>\n",
                            "      <td>97.0</td>\n",
                            "      <td>66.0</td>\n",
                            "      <td>140.0</td>\n",
                            "      <td>23.2</td>\n",
                            "      <td>0.487</td>\n",
                            "      <td>22.0</td>\n",
                            "      <td>0</td>\n",
                            "    </tr>\n",
                            "  </tbody>\n",
                            "</table>\n",
                            "</div>"
                        ],
                        "text/plain": [
                            "   Pregnancies  Glucose  BloodPressure  Insulin   BMI  \\\n",
                            "0          8.0    133.0           72.0      0.0  32.9   \n",
                            "1          5.0    112.0           66.0      0.0  37.8   \n",
                            "2          8.0     95.0           72.0      0.0  36.8   \n",
                            "3          3.0     78.0           70.0      0.0  32.5   \n",
                            "4          1.0     97.0           66.0    140.0  23.2   \n",
                            "\n",
                            "   DiabetesPedigreeFunction   Age  Outcome  \n",
                            "0                     0.270  39.0        1  \n",
                            "1                     0.261  41.0        1  \n",
                            "2                     0.485  57.0        0  \n",
                            "3                     0.270  39.0        0  \n",
                            "4                     0.487  22.0        0  "
                        ]
                    },
                    "execution_count": 1,
                    "metadata": {},
                    "output_type": "execute_result"
                }
            ],
            "source": [
                "# Your code here\n",
                "\n",
                "import pandas as pd\n",
                "\n",
                "train_data = pd.read_csv(\"../data/processed/clean_train.csv\")\n",
                "test_data = pd.read_csv(\"../data/processed/clean_test.csv\")\n",
                "train_data.head()"
            ]
        },
        {
            "cell_type": "code",
            "execution_count": 2,
            "metadata": {},
            "outputs": [],
            "source": [
                "X_train = train_data.drop([\"Outcome\"], axis = 1)\n",
                "y_train = train_data[\"Outcome\"]\n",
                "X_test = test_data.drop([\"Outcome\"], axis = 1)\n",
                "y_test = test_data[\"Outcome\"]"
            ]
        },
        {
            "cell_type": "code",
            "execution_count": 3,
            "metadata": {},
            "outputs": [
                {
                    "data": {
                        "text/plain": [
                            "0.75"
                        ]
                    },
                    "execution_count": 3,
                    "metadata": {},
                    "output_type": "execute_result"
                }
            ],
            "source": [
                "#INICIALIZO EL MODELO Y LO ENTRENO (dejo default parametros) - saco score\n",
                "import sklearn\n",
                "from xgboost import XGBClassifier\n",
                "\n",
                "model = XGBClassifier()\n",
                "model.fit(X_train, y_train)\n",
                "model.score(X_test, y_test)"
            ]
        },
        {
            "cell_type": "code",
            "execution_count": 11,
            "metadata": {},
            "outputs": [],
            "source": [
                "#INICIALIZO EL MODELO Y LO ENTRENO, cambio parametros - saco score\n",
                "import sklearn\n",
                "from xgboost import XGBClassifier\n",
                "\n",
                "model = XGBClassifier(n_estimators= 20, random_state = 42)\n",
                "model.fit(X_train, y_train)\n",
                "model_ba_sore = model.score(X_test, y_test)"
            ]
        },
        {
            "cell_type": "code",
            "execution_count": 12,
            "metadata": {},
            "outputs": [],
            "source": [
                "#USO EL DECISION TREE optimizado PARA COMPARAR RESULTADOS SOBRE EL MISMO DATASET\n",
                "\n",
                "from sklearn.tree import DecisionTreeClassifier\n",
                "\n",
                "model_dt = DecisionTreeClassifier(criterion = \"entropy\", max_depth = 5, min_samples_leaf = 1, min_samples_split = 2, random_state = 42)\n",
                "model.fit(X_train, y_train)\n",
                "model_dt.fit(X_train, y_train)\n",
                "model_dt_sore = model_dt.score(X_test, y_test)"
            ]
        },
        {
            "cell_type": "code",
            "execution_count": 13,
            "metadata": {},
            "outputs": [],
            "source": [
                "#USO RANDOM FOREST OPTIMIZADO PARA COMPARAR RESULTADOS\n",
                "\n",
                "from sklearn.ensemble import RandomForestClassifier\n",
                "\n",
                "model_rf = RandomForestClassifier(n_estimators = 60, max_depth= None, min_samples_split= 10, random_state = 42)\n",
                "model_rf.fit(X_train, y_train)\n",
                "model_rf_sore = model_rf.score(X_test, y_test)\n",
                "\n"
            ]
        },
        {
            "cell_type": "code",
            "execution_count": 5,
            "metadata": {},
            "outputs": [],
            "source": [
                "#  GUARDO EL MODELO BOOSTING EN PKL \n",
                "from pickle import dump\n",
                "\n",
                "dump(model, open(\"boosting_classifier_nestimators-20.pkl\", \"wb\"))"
            ]
        },
        {
            "cell_type": "code",
            "execution_count": 14,
            "metadata": {},
            "outputs": [
                {
                    "name": "stdout",
                    "output_type": "stream",
                    "text": [
                        "Accuracy of Decision Tree: 0.75\n",
                        "Accuracy of Random Forest: 0.8125\n",
                        "Accuracy of Boosting algo: 0.7847222222222222\n"
                    ]
                }
            ],
            "source": [
                "\n",
                "# LOS RESULTADOS\n",
                "\n",
                "print(f\"Accuracy of Decision Tree: {model_dt_sore}\")\n",
                "print(f\"Accuracy of Random Forest: {model_rf_sore}\")\n",
                "print(f\"Accuracy of Boosting algo: {model_ba_sore}\")"
            ]
        },
        {
            "cell_type": "markdown",
            "metadata": {},
            "source": [
                "Usando el modelo sin especificcar el n estimator (o sea que usa 10 abroles por defaulta) el accuracy me da 75%\n",
                "\n",
                "Hice el segundo modelo con 20 n-estimators, o sea, 20 arboles y ha mejorado un poco el numero base de accuracy\n",
                "Con 20 me ha dado 78,4% de accuracy\n",
                "\n",
                "Conclusion = hemos usado decision tree, random forest y boosting algo con el mismo dataset. De base, el DT ha dado 71% de accuracy y modificando los hiperparametros ha dado un =~ 74%.  Al implementar RF y colocando un numero de estimators de 60, el  % de accuracy es de 79%. Usando XG con seteo por default da un % de accuracy mayor al base y optimizado de decision tree, pero el mejor en este caso para mi, es RF segun resultados."
            ]
        }
    ],
    "metadata": {
        "kernelspec": {
            "display_name": "Python 3.8.13 64-bit ('3.8.13')",
            "language": "python",
            "name": "python3"
        },
        "language_info": {
            "codemirror_mode": {
                "name": "ipython",
                "version": 3
            },
            "file_extension": ".py",
            "mimetype": "text/x-python",
            "name": "python",
            "nbconvert_exporter": "python",
            "pygments_lexer": "ipython3",
            "version": "3.10.12"
        },
        "orig_nbformat": 4,
        "vscode": {
            "interpreter": {
                "hash": "110cc1dee26208153f2972f08a2ad52b6a56238dc66d48e87fb757ef2996db56"
            }
        }
    },
    "nbformat": 4,
    "nbformat_minor": 2
}
